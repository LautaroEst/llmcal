{
 "cells": [
  {
   "cell_type": "code",
   "execution_count": 3,
   "id": "4842104a",
   "metadata": {},
   "outputs": [],
   "source": [
    "from llmcal.src.dirichlet import DirichletCalibrator"
   ]
  },
  {
   "cell_type": "code",
   "execution_count": null,
   "id": "be534bce",
   "metadata": {},
   "outputs": [],
   "source": [
    "cal = DirichletCalibrator()"
   ]
  }
 ],
 "metadata": {
  "kernelspec": {
   "display_name": "llmcal",
   "language": "python",
   "name": "python3"
  },
  "language_info": {
   "codemirror_mode": {
    "name": "ipython",
    "version": 3
   },
   "file_extension": ".py",
   "mimetype": "text/x-python",
   "name": "python",
   "nbconvert_exporter": "python",
   "pygments_lexer": "ipython3",
   "version": "3.11.13"
  }
 },
 "nbformat": 4,
 "nbformat_minor": 5
}
