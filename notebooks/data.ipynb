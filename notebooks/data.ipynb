{
 "cells": [
  {
   "cell_type": "code",
   "execution_count": 1,
   "metadata": {},
   "outputs": [],
   "source": [
    "import pandas as pd\n",
    "import numpy as np"
   ]
  },
  {
   "cell_type": "code",
   "execution_count": 4,
   "metadata": {},
   "outputs": [
    {
     "data": {
      "text/plain": [
       "array([0, 1, 3, 3, 1, 2, 2, 2, 0, 0, 1, 1, 0, 0, 2, 1, 2, 2, 1, 1, 2, 3,\n",
       "       1, 0, 0, 0, 2, 2, 0, 0, 0, 2, 2, 0, 4, 1, 0, 0, 2, 0, 0, 0, 0, 3,\n",
       "       0, 0, 2, 0, 0, 1, 0, 1, 2, 1, 0, 1, 1, 1, 0, 1, 0, 1, 0, 3, 1, 0,\n",
       "       1, 2, 2, 1, 2, 2, 1, 0, 1])"
      ]
     },
     "execution_count": 4,
     "metadata": {},
     "output_type": "execute_result"
    }
   ],
   "source": [
    "dataset = \"banking77\"\n",
    "T = 3\n",
    "seed = 0\n",
    "data = pd.read_csv(f\"../data/{dataset}/all.csv\", index_col=0, header=0)\n",
    "train_lst = np.loadtxt(f\"../lists/{dataset}/size={int(2**T)}/seed={seed}/0.0-1.0.txt\")\n",
    "labels = data.loc[train_lst,\"label\"]\n",
    "np.bincount(labels)"
   ]
  }
 ],
 "metadata": {
  "kernelspec": {
   "display_name": "llmcal",
   "language": "python",
   "name": "python3"
  },
  "language_info": {
   "codemirror_mode": {
    "name": "ipython",
    "version": 3
   },
   "file_extension": ".py",
   "mimetype": "text/x-python",
   "name": "python",
   "nbconvert_exporter": "python",
   "pygments_lexer": "ipython3",
   "version": "3.11.10"
  }
 },
 "nbformat": 4,
 "nbformat_minor": 2
}
